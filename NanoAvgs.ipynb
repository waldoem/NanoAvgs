{
 "cells": [
  {
   "cell_type": "code",
   "execution_count": 65,
   "id": "22006204-f1ea-4a72-8958-3a956f3e38fe",
   "metadata": {
    "tags": []
   },
   "outputs": [],
   "source": [
    "import numpy as np\n",
    "import pandas as pd"
   ]
  },
  {
   "cell_type": "code",
   "execution_count": 66,
   "id": "695d6d6f-3e61-4a2e-885c-b889fe52c500",
   "metadata": {
    "tags": []
   },
   "outputs": [],
   "source": [
    "m_path = 'C:/Users/waldoe/Desktop/innn stock tubes dsDNA 1_4_2024 3_28_28 PM.csv'\n",
    "data = pd.read_csv(m_path,encoding='utf-16', delimiter='\\t',usecols=['Nucleic Acid(ng/uL)'])\n",
    "\n",
    "nano_raw = data['Nucleic Acid(ng/uL)'].tolist()"
   ]
  },
  {
   "cell_type": "code",
   "execution_count": 67,
   "id": "661932ee-8e7c-44ab-927d-49335f9678c1",
   "metadata": {},
   "outputs": [],
   "source": [
    "import itertools"
   ]
  },
  {
   "cell_type": "code",
   "execution_count": 68,
   "id": "a3494902-bff9-4bdd-8b46-a14e507dae08",
   "metadata": {
    "tags": []
   },
   "outputs": [
    {
     "name": "stdout",
     "output_type": "stream",
     "text": [
      "[(0, 200.424), (1, 200.219), (2, 107.454), (3, 107.739), (4, 152.686), (5, 152.932), (6, 124.075), (7, 123.22), (8, 153.393), (9, 152.649), (10, 149.748), (11, 148.457), (12, 164.363), (13, 164.368), (14, 148.925), (15, 148.601), (16, 106.225), (17, 106.822), (18, 163.41), (19, 163.426), (20, 118.82), (21, 117.176), (22, 173.003), (23, 174.31), (24, 152.603), (25, 151.296), (26, 114.558), (27, 113.283), (28, 105.979), (29, 106.56), (30, 166.72), (31, 167.851), (32, 63.574), (33, 64.496), (34, 137.911), (35, 138.105), (36, 118.548), (37, 118.777), (38, 122.705), (39, 123.621), (40, 107.252), (41, 107.604), (42, 110.655), (43, 110.689), (44, 115.668), (45, 118.194), (46, 138.475), (47, 138.58), (48, 106.938), (49, 107.861), (50, 111.504), (51, 113.246), (52, 164.478), (53, 163.659), (54, 121.254), (55, 120.532), (56, 138.062), (57, 136.229), (58, 153.033), (59, 152.374), (60, 115.555), (61, 115.741), (62, 94.185), (63, 95.496), (64, 97.995), (65, 97.284), (66, 131.676), (67, 131.432), (68, 124.593), (69, 123.84), (70, 117.049), (71, 116.096), (72, 107.259), (73, 108.039), (74, 125.512), (75, 122.895), (76, 123.009), (77, 94.597), (78, 94.533), (79, 112.283), (80, 111.876), (81, 111.395), (82, 110.641), (83, 146.912), (84, 147.285), (85, 90.815), (86, 91.265), (87, 130.871), (88, 132.214), (89, 113.534), (90, 113.544), (91, 130.17), (92, 129.397), (93, 170.117), (94, 171.314), (95, 101.679), (96, 98.976), (97, 93.814), (98, 93.531), (99, 149.197), (100, 148.048), (101, 153.315), (102, 205.844), (103, 151.766), (104, 42.557), (105, 42.128), (106, 129.107), (107, 127.177), (108, 103.368), (109, 102.275), (110, 98.977), (111, 98.513), (112, 119.38), (113, 118.366), (114, 133.483), (115, 135.127), (116, 152.628), (117, 154.728), (118, 114.79), (119, 114.81), (120, 114.494), (121, 114.131), (122, 128.855), (123, 127.408), (124, 116.95), (125, 116.716), (126, 110.57), (127, 110.703), (128, 135.934), (129, 135.529), (130, 155.3), (131, 156.9), (132, 71.695), (133, 75.371), (134, 73.253), (135, 93.563), (136, 93.656), (137, 102.084), (138, 102.459), (139, 127.549), (140, 126.921), (141, 169.716), (142, 166.979)]\n"
     ]
    }
   ],
   "source": [
    "nanoen = list(enumerate(nano_raw))\n",
    "print(nanoen)"
   ]
  },
  {
   "cell_type": "code",
   "execution_count": 71,
   "id": "2b61ada3-4e08-4626-9b0f-a7f0d0b8ca73",
   "metadata": {
    "tags": []
   },
   "outputs": [
    {
     "name": "stdout",
     "output_type": "stream",
     "text": [
      "[200.3, 107.6, 152.8, 123.6, 153.0, 149.1, 164.4, 148.8, 106.5, 163.4, 118.0, 173.7, 151.9, 113.9, 106.3, 167.3, 64.0, 138.0, 118.7, 123.2, 107.4, 110.7, 116.9, 138.5, 107.4, 112.4, 164.1, 120.9, 137.1, 152.7, 115.6, 94.8, 97.6, 131.6, 124.2, 116.6, 107.6, 124.2, 94.6, 112.1, 111.0, 147.1, 91.0, 131.5, 113.5, 129.8, 170.7, 100.3, 93.7, 148.6, 152.5, 42.3, 128.1, 102.8, 98.7, 118.9, 134.3, 153.7, 114.8, 114.3, 128.1, 116.8, 110.6, 135.7, 156.1, 72.5, 93.6, 102.3, 127.2, 168.3]\n"
     ]
    }
   ],
   "source": [
    "nanoavg = []\n",
    "index_map = {p:nano for p, nano in nanoen}\n",
    "skip_until = 0\n",
    "for p, nano in nanoen:\n",
    "    if p < skip_until:\n",
    "        continue\n",
    "    if index_map[p] > 299:\n",
    "        if int(p + 1) in index_map.keys():\n",
    "            if abs(index_map[p] - index_map[p+1]) <= 10:\n",
    "                nanoavg.append((round((index_map[p]+index_map[p+1])/2,1)))\n",
    "                skip_until = p + 2\n",
    "            else:\n",
    "                combos = itertools.combinations([p,p+1,p+2,p+3,p+4,p+5,p+6,p+7,p+8],2)\n",
    "                for p1,p2 in combos:\n",
    "                    if p1 and p2 in index_map.keys():\n",
    "                        if (abs(index_map[p1]-index_map[p2])) <= 10:\n",
    "                            nanoavg.append((round((index_map[p1]+index_map[p2])/2,1)))\n",
    "                            if p1 > p2:\n",
    "                                skip_until = p1 + 1\n",
    "                                break\n",
    "                            elif p2 > p1:\n",
    "                                skip_until = p2 + 1\n",
    "                                break\n",
    "    if index_map[p] < 99:\n",
    "        if int(p + 1) in index_map.keys():\n",
    "            if abs(index_map[p] - index_map[p+1]) <= 2:\n",
    "                nanoavg.append((round((index_map[p]+index_map[p+1])/2,1)))\n",
    "                skip_until = p + 2\n",
    "            else:\n",
    "                combos = itertools.combinations([p,p+1,p+2,p+3,p+4,p+5,p+6,p+7,p+8],2)\n",
    "                for p1,p2 in combos:\n",
    "                    if p1 and p2 in index_map.keys():\n",
    "                        if (abs(index_map[p1]-index_map[p2])) <= 2:\n",
    "                            nanoavg.append((round((index_map[p1]+index_map[p2])/2,1)))\n",
    "                            if p1 > p2:\n",
    "                                skip_until = p1 + 1\n",
    "                                break\n",
    "                            elif p2 > p1:\n",
    "                                skip_until = p2 + 1\n",
    "                                break\n",
    "    if index_map[p] > 99:\n",
    "        if int(p + 1) in index_map.keys():\n",
    "            if abs(index_map[p] - index_map[p+1]) <= 5:\n",
    "                nanoavg.append((round((index_map[p]+index_map[p+1])/2,1)))\n",
    "                skip_until = p + 2\n",
    "            else:\n",
    "                combos = itertools.combinations([p,p+1,p+2,p+3,p+4,p+5,p+6,p+7,p+8],2)\n",
    "                for p1,p2 in combos:\n",
    "                    if p1 and p2 in index_map.keys():\n",
    "                        if (abs(index_map[p1]-index_map[p2])) <= 5:\n",
    "                            nanoavg.append((round((index_map[p1]+index_map[p2])/2,1)))\n",
    "                            if p1 > p2:\n",
    "                                skip_until = p1 + 1\n",
    "                                break\n",
    "                            elif p2 > p1:\n",
    "                                skip_until = p2 + 1\n",
    "                                break\n",
    "print(nanoavg)"
   ]
  },
  {
   "cell_type": "code",
   "execution_count": 72,
   "id": "670dcc80-31c6-424c-97b1-35f46f02828b",
   "metadata": {
    "tags": []
   },
   "outputs": [
    {
     "name": "stdout",
     "output_type": "stream",
     "text": [
      "[(0, 200.3), (1, 107.6), (2, 152.8), (3, 123.6), (4, 153.0), (5, 149.1), (6, 164.4), (7, 148.8), (8, 106.5), (9, 163.4), (10, 118.0), (11, 173.7), (12, 151.9), (13, 113.9), (14, 106.3), (15, 167.3), (16, 64.0), (17, 138.0), (18, 118.7), (19, 123.2), (20, 107.4), (21, 110.7), (22, 116.9), (23, 138.5), (24, 107.4), (25, 112.4), (26, 164.1), (27, 120.9), (28, 137.1), (29, 152.7), (30, 115.6), (31, 94.8), (32, 97.6), (33, 131.6), (34, 124.2), (35, 116.6), (36, 107.6), (37, 124.2), (38, 94.6), (39, 112.1), (40, 111.0), (41, 147.1), (42, 91.0), (43, 131.5), (44, 113.5), (45, 129.8), (46, 170.7), (47, 100.3), (48, 93.7), (49, 148.6), (50, 152.5), (51, 42.3), (52, 128.1), (53, 102.8), (54, 98.7), (55, 118.9), (56, 134.3), (57, 153.7), (58, 114.8), (59, 114.3), (60, 128.1), (61, 116.8), (62, 110.6), (63, 135.7), (64, 156.1), (65, 72.5), (66, 93.6), (67, 102.3), (68, 127.2), (69, 168.3)]\n"
     ]
    }
   ],
   "source": [
    "nanoavgen=list(enumerate(nanoavg))\n",
    "print(nanoavgen)"
   ]
  },
  {
   "cell_type": "code",
   "execution_count": 130,
   "id": "a8c878b4-96c6-4b08-8fb1-351d0260a22c",
   "metadata": {
    "tags": []
   },
   "outputs": [
    {
     "name": "stdout",
     "output_type": "stream",
     "text": [
      "       codes  Nanodrop Average [ng/uL]\n",
      "0   MIP00449                     200.3\n",
      "1   MIP00450                     107.6\n",
      "2   MIP00451                     152.8\n",
      "3   MIP00452                     123.6\n",
      "4   MIP00453                     153.0\n",
      "..       ...                       ...\n",
      "65  MIP00514                      72.5\n",
      "66  MIP00515                      93.6\n",
      "67  MIP00516                     102.3\n",
      "68  MIP00517                     127.2\n",
      "69  MIP00518                     168.3\n",
      "\n",
      "[70 rows x 2 columns]\n"
     ]
    }
   ],
   "source": [
    "code_path = 'C:/Users/waldoe/Desktop/testing.csv'\n",
    "pcodes= pd.read_csv(code_path, delimiter='\\t',usecols=['codes'])\n",
    "\n",
    "codes1 = np.array([pcodes])\n",
    "pcodes['Nanodrop Average [ng/uL]'] = nanoavg\n",
    "print(pcodes)"
   ]
  },
  {
   "cell_type": "code",
   "execution_count": 132,
   "id": "65ff10c7-dca7-48e1-8978-5cff2d05e16a",
   "metadata": {
    "tags": []
   },
   "outputs": [],
   "source": [
    "df = pd.DataFrame(pcodes)\n",
    "df.to_csv('C:/Users/waldoe/Desktop/INNN_avg.csv')"
   ]
  }
 ],
 "metadata": {
  "kernelspec": {
   "display_name": "Python 3 (ipykernel)",
   "language": "python",
   "name": "python3"
  },
  "language_info": {
   "codemirror_mode": {
    "name": "ipython",
    "version": 3
   },
   "file_extension": ".py",
   "mimetype": "text/x-python",
   "name": "python",
   "nbconvert_exporter": "python",
   "pygments_lexer": "ipython3",
   "version": "3.11.4"
  }
 },
 "nbformat": 4,
 "nbformat_minor": 5
}
