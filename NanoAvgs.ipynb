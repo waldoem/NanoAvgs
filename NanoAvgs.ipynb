{
 "cells": [
  {
   "cell_type": "code",
   "execution_count": 77,
   "id": "661932ee-8e7c-44ab-927d-49335f9678c1",
   "metadata": {},
   "outputs": [],
   "source": [
    "import itertools\n",
    "nano_raw = [100.2,101.3,101.2,107.3,103.4,100.6,100.7,108.2,115,107.6,129.8,135,134.6,500,549,558,12,13,14,18,15]"
   ]
  },
  {
   "cell_type": "code",
   "execution_count": 78,
   "id": "a3494902-bff9-4bdd-8b46-a14e507dae08",
   "metadata": {
    "tags": []
   },
   "outputs": [
    {
     "name": "stdout",
     "output_type": "stream",
     "text": [
      "[(0, 100.2), (1, 101.3), (2, 101.2), (3, 107.3), (4, 103.4), (5, 100.6), (6, 100.7), (7, 108.2), (8, 115), (9, 107.6), (10, 129.8), (11, 135), (12, 134.6), (13, 500), (14, 549), (15, 558), (16, 12), (17, 13), (18, 14), (19, 18), (20, 15)]\n"
     ]
    }
   ],
   "source": [
    "nanoen = list(enumerate(nano_raw))\n",
    "print(nanoen)"
   ]
  },
  {
   "cell_type": "code",
   "execution_count": 83,
   "id": "2b61ada3-4e08-4626-9b0f-a7f0d0b8ca73",
   "metadata": {
    "tags": []
   },
   "outputs": [
    {
     "name": "stdout",
     "output_type": "stream",
     "text": [
      "[100.8, 102.3, 100.7, 107.9, 132.2, 553.5, 12.5, 14.5]\n"
     ]
    }
   ],
   "source": [
    "nanoavg = []\n",
    "index_map = {p:nano for p, nano in nanoen}\n",
    "skip_until = 0\n",
    "for p, nano in nanoen:\n",
    "    if p < skip_until:\n",
    "        continue\n",
    "    if index_map[p] > 299:\n",
    "        if int(p + 1) in index_map.keys():\n",
    "            if abs(index_map[p] - index_map[p+1]) <= 10:\n",
    "                nanoavg.append((round((index_map[p]+index_map[p+1])/2,1)))\n",
    "                skip_until = p + 2\n",
    "            else:\n",
    "                combos = itertools.combinations([p,p+1,p+2,p+3,p+4,p+5,p+6,p+7,p+8],2)\n",
    "                for p1,p2 in combos:\n",
    "                    if p1 and p2 in index_map.keys():\n",
    "                        if (abs(index_map[p1]-index_map[p2])) <= 10:\n",
    "                            nanoavg.append((round((index_map[p1]+index_map[p2])/2,1)))\n",
    "                            if p1 > p2:\n",
    "                                skip_until = p1 + 1\n",
    "                                break\n",
    "                            elif p2 > p1:\n",
    "                                skip_until = p2 + 1\n",
    "                                break\n",
    "    if index_map[p] < 99:\n",
    "        if int(p + 1) in index_map.keys():\n",
    "            if abs(index_map[p] - index_map[p+1]) <= 2:\n",
    "                nanoavg.append((round((index_map[p]+index_map[p+1])/2,1)))\n",
    "                skip_until = p + 2\n",
    "            else:\n",
    "                combos = itertools.combinations([p,p+1,p+2,p+3,p+4,p+5,p+6,p+7,p+8],2)\n",
    "                for p1,p2 in combos:\n",
    "                    if p1 and p2 in index_map.keys():\n",
    "                        if (abs(index_map[p1]-index_map[p2])) <= 2:\n",
    "                            nanoavg.append((round((index_map[p1]+index_map[p2])/2,1)))\n",
    "                            if p1 > p2:\n",
    "                                skip_until = p1 + 1\n",
    "                                break\n",
    "                            elif p2 > p1:\n",
    "                                skip_until = p2 + 1\n",
    "                                break\n",
    "    if index_map[p] > 99:\n",
    "        if int(p + 1) in index_map.keys():\n",
    "            if abs(index_map[p] - index_map[p+1]) <= 5:\n",
    "                nanoavg.append((round((index_map[p]+index_map[p+1])/2,1)))\n",
    "                skip_until = p + 2\n",
    "            else:\n",
    "                combos = itertools.combinations([p,p+1,p+2,p+3,p+4,p+5,p+6,p+7,p+8],2)\n",
    "                for p1,p2 in combos:\n",
    "                    if p1 and p2 in index_map.keys():\n",
    "                        if (abs(index_map[p1]-index_map[p2])) <= 5:\n",
    "                            nanoavg.append((round((index_map[p1]+index_map[p2])/2,1)))\n",
    "                            if p1 > p2:\n",
    "                                skip_until = p1 + 1\n",
    "                                break\n",
    "                            elif p2 > p1:\n",
    "                                skip_until = p2 + 1\n",
    "                                break\n",
    "    else:\n",
    "        break\n",
    "print(nanoavg)"
   ]
  }
 ],
 "metadata": {
  "kernelspec": {
   "display_name": "Python 3 (ipykernel)",
   "language": "python",
   "name": "python3"
  },
  "language_info": {
   "codemirror_mode": {
    "name": "ipython",
    "version": 3
   },
   "file_extension": ".py",
   "mimetype": "text/x-python",
   "name": "python",
   "nbconvert_exporter": "python",
   "pygments_lexer": "ipython3",
   "version": "3.11.5"
  }
 },
 "nbformat": 4,
 "nbformat_minor": 5
}
