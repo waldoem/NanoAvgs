{
 "cells": [
  {
   "cell_type": "code",
   "execution_count": null,
   "id": "22006204-f1ea-4a72-8958-3a956f3e38fe",
   "metadata": {
    "tags": []
   },
   "outputs": [],
   "source": [
    "import numpy as np\n",
    "import pandas as pd"
   ]
  },
  {
   "cell_type": "code",
   "execution_count": null,
   "id": "2abbb8c3-d77c-44f0-ab2e-99c16660175f",
   "metadata": {
    "tags": []
   },
   "outputs": [],
   "source": [
    "m_path =  [] \n",
    "# input path(s) to the raw NanoDrop output .csv file(s) here\n",
    "rawdata = []\n",
    "# leave blank\n",
    "for path in m_path:\n",
    "    df1 = pd.read_csv(path,encoding='utf-16', delimiter='\\t',usecols=['Nucleic Acid(ng/uL)'])\n",
    "    df1['Consolidated Nano Raw'] = path\n",
    "    rawdata.append(df1)\n",
    "nano_rawdata = pd.concat(rawdata, ignore_index=True)\n",
    "nano_rawlist = nano_rawdata['Nucleic Acid(ng/uL)'].tolist()\n",
    "print(nano_rawlist)"
   ]
  },
  {
   "cell_type": "code",
   "execution_count": null,
   "id": "a3494902-bff9-4bdd-8b46-a14e507dae08",
   "metadata": {
    "tags": []
   },
   "outputs": [],
   "source": [
    "nanoen = list(enumerate(nano_rawlist))\n",
    "print(nanoen)"
   ]
  },
  {
   "cell_type": "code",
   "execution_count": null,
   "id": "2543c1a3-7797-48fe-8ca9-9f95d838add9",
   "metadata": {
    "tags": []
   },
   "outputs": [],
   "source": [
    "source = input('What is the source of these readings? (type either SP or ST):')\n",
    "#inputs should only equal 'SP' or 'ST'"
   ]
  },
  {
   "cell_type": "code",
   "execution_count": null,
   "id": "b14a434d-e486-4ba7-a581-091852385a8d",
   "metadata": {
    "tags": []
   },
   "outputs": [],
   "source": [
    "nanoavg = []\n",
    "# leave blank\n",
    "index_map = {spot:round(nano,1) for spot, nano in nanoen}\n",
    "skip_until = 0\n",
    "cutoff = ((0,99,2),(99,299,5),(299,10000,10))\n",
    "cutval = []\n",
    "for spot, nano in nanoen:\n",
    "    if spot < skip_until:\n",
    "        continue\n",
    "    if source == \"SP\" and index_map[spot] < 35:\n",
    "        continue\n",
    "    if source == \"SP\" and index_map[spot] > 95:\n",
    "        continue\n",
    "    for n1, n2, cut in cutoff:\n",
    "        if (index_map[spot] > n1) and (index_map[spot] < n2 or index_map[spot] == n2):\n",
    "            cutval = cut\n",
    "            break\n",
    "        else:\n",
    "            continue\n",
    "    if int(spot + 1) in index_map.keys():\n",
    "        if abs(index_map[spot] - index_map[spot+1]) <= cutval:\n",
    "            nanoavg.append((round((index_map[spot]+index_map[spot+1])/2,1)))\n",
    "            skip_until = spot + 2\n",
    "        else:\n",
    "            combos = [(0,1),(0,2),(1,2),(0,3),(1,3),(2,3),\n",
    "                      (0,4),(1,4),(2,4),(3,4),(0,5),(1,5),\n",
    "                      (2,5),(3,5),(4,5),(0,6),(1,6),(2,6),\n",
    "                      (3,6),(4,6),(5,6),(0,7),(1,7),(2,7),\n",
    "                      (3,7),(4,7),(5,7),(6,7),(0,8),(1,8),\n",
    "                      (2,8),(3,8),(4,8),(5,8),(6,8),(7,8)]\n",
    "            for spot1,spot2 in combos:\n",
    "                if source == \"SP\" and (index_map[spot + spot1] < 35 or index_map[spot + spot2] < 35 \n",
    "                                       or index_map[spot + spot1] > 95 or index_map[spot +spot2] > 95):\n",
    "                    continue\n",
    "                if (spot + spot1) and (spot + spot2) in index_map.keys():\n",
    "                    if (abs(index_map[spot + spot1]-index_map[spot + spot2])) <= cutval:\n",
    "                        nanoavg.append((round((index_map[spot + spot1]+index_map[spot + spot2])/2,1)))\n",
    "                        if spot1 > spot2:\n",
    "                            skip_until = spot + spot1 + 1\n",
    "                            break\n",
    "                        elif spot2 > spot1:\n",
    "                            skip_until = spot + spot2 + 1\n",
    "                            break\n",
    "print(nanoavg)"
   ]
  },
  {
   "cell_type": "code",
   "execution_count": null,
   "id": "a8c878b4-96c6-4b08-8fb1-351d0260a22c",
   "metadata": {
    "tags": []
   },
   "outputs": [],
   "source": [
    "code_path = \n",
    "# input path to .csv file for the list of codes exported by the NanoDrop\n",
    "pcodes= pd.read_csv(code_path, delimiter='\\t',usecols=['codes'])\n",
    "\n",
    "codes1 = np.array([pcodes])\n",
    "pcodes['Nanodrop Average [ng/uL]'] = nanoavg\n",
    "print(pcodes)"
   ]
  },
  {
   "cell_type": "code",
   "execution_count": null,
   "id": "65ff10c7-dca7-48e1-8978-5cff2d05e16a",
   "metadata": {
    "tags": []
   },
   "outputs": [],
   "source": [
    "df2 = pd.DataFrame(pcodes)\n",
    "df2.to_csv()\n",
    "# input the path to where the output file should go including the name of the output file"
   ]
  }
 ],
 "metadata": {
  "kernelspec": {
   "display_name": "Python 3 (ipykernel)",
   "language": "python",
   "name": "python3"
  },
  "language_info": {
   "codemirror_mode": {
    "name": "ipython",
    "version": 3
   },
   "file_extension": ".py",
   "mimetype": "text/x-python",
   "name": "python",
   "nbconvert_exporter": "python",
   "pygments_lexer": "ipython3",
   "version": "3.11.4"
  }
 },
 "nbformat": 4,
 "nbformat_minor": 5
}
