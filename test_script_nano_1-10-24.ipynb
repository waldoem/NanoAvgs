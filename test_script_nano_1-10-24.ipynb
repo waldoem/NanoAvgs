{
 "cells": [
  {
   "cell_type": "code",
   "execution_count": 42,
   "id": "12a16f46-842c-4511-9b56-51bc181d1b16",
   "metadata": {
    "tags": []
   },
   "outputs": [],
   "source": [
    "import numpy as np"
   ]
  },
  {
   "cell_type": "code",
   "execution_count": 41,
   "id": "9ec7a46c-64b1-4d27-a49f-67a52c57b2e0",
   "metadata": {
    "tags": []
   },
   "outputs": [],
   "source": [
    "import pandas as pd"
   ]
  },
  {
   "cell_type": "code",
   "execution_count": 87,
   "id": "01fe9bde-1037-4c0c-bd73-9cf941710aa9",
   "metadata": {
    "tags": []
   },
   "outputs": [],
   "source": [
    "m_path = '/Users/mariarivera/Desktop/Mata lab/DATA_wetlab/innn data/2innn stock tubes dsDNA 1_4_2024 3_28_28 PM.csv'"
   ]
  },
  {
   "cell_type": "code",
   "execution_count": 90,
   "id": "0e29fd36-1998-484c-9b06-edb6228fc928",
   "metadata": {
    "tags": []
   },
   "outputs": [],
   "source": [
    "m_df = pd.read_csv(m_path, usecols=['Nucleic Acid(ng/uL)'])"
   ]
  },
  {
   "cell_type": "code",
   "execution_count": 91,
   "id": "538bb111-39d9-4b1e-9e94-f924badb52c3",
   "metadata": {
    "tags": []
   },
   "outputs": [],
   "source": [
    "m_arr = np.array([])"
   ]
  },
  {
   "cell_type": "code",
   "execution_count": 119,
   "id": "e31abefa-b169-4f6f-96a0-79437e33ef63",
   "metadata": {
    "tags": []
   },
   "outputs": [],
   "source": [
    "temp = m_df.to_numpy()\n",
    "step = 2\n",
    "for i in range(1,25000, step):\n",
    "    if i == False:\n",
    "        continue\n",
    "    arr = np.append(m_arr, np.array([np.average(temp[i:i+ step])]))\n",
    "\n",
    "data = np.array(m_arr)[np.newaxis]\n",
    "    \n",
    "m_df = pd.DataFrame({'Nanodrop Average [ng/uL]': data[0, :25000]})\n",
    "m_df.to_csv(r\"/Users/mariarivera/Desktop/Mata lab/DATA_wetlab/innn data/AVG.csv\")"
   ]
  },
  {
   "cell_type": "code",
   "execution_count": 192,
   "id": "1c7de1fc-86c6-4906-9375-d053ca3d980c",
   "metadata": {
    "tags": []
   },
   "outputs": [
    {
     "data": {
      "text/plain": [
       "array([[0, 0, 0],\n",
       "       [0, 1, 2],\n",
       "       [0, 2, 4]])"
      ]
     },
     "execution_count": 192,
     "metadata": {},
     "output_type": "execute_result"
    }
   ],
   "source": [
    "x = np.arange(3)\n",
    "x[:, np.newaxis]*x"
   ]
  },
  {
   "cell_type": "code",
   "execution_count": 196,
   "id": "0680072f-0ca1-44c5-900a-c040bb0d7d3a",
   "metadata": {
    "tags": []
   },
   "outputs": [
    {
     "name": "stdout",
     "output_type": "stream",
     "text": [
      "Original array:\n",
      "2\n",
      "\n",
      "Array with a new axis added:\n",
      "[0 1 2]\n"
     ]
    }
   ],
   "source": [
    "b = np.arange(3)\n",
    "a = 2\n",
    "b[:, np.newaxis]*a\n",
    "\n",
    "print(\"Original array:\")\n",
    "print(a)\n",
    "print(\"\\nArray with a new axis added:\")\n",
    "print(b)"
   ]
  }
 ],
 "metadata": {
  "kernelspec": {
   "display_name": "Python 3 (ipykernel)",
   "language": "python",
   "name": "python3"
  },
  "language_info": {
   "codemirror_mode": {
    "name": "ipython",
    "version": 3
   },
   "file_extension": ".py",
   "mimetype": "text/x-python",
   "name": "python",
   "nbconvert_exporter": "python",
   "pygments_lexer": "ipython3",
   "version": "3.11.5"
  }
 },
 "nbformat": 4,
 "nbformat_minor": 5
}
